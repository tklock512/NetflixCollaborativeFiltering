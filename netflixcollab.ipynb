{
 "cells": [
  {
   "cell_type": "code",
   "execution_count": null,
   "metadata": {},
   "outputs": [],
   "source": [
    "#getting training and testing data  \n",
    "import numpy as np\n",
    "import pandas as pd\n",
    "\n",
    "train_data = pd.read_csv(\"netflix/TrainingRatings.txt\", names=[\"MovieID\", \"UserID\", \"Rating\"])\n",
    "test_data = pd.read_csv(\"netflix/TestingRatings.txt\", names=[\"MovieID\", \"UserID\", \"Rating\"])"
   ]
  },
  {
   "cell_type": "code",
   "execution_count": null,
   "metadata": {},
   "outputs": [],
   "source": [
    "#creating matrix comparing movieIDs directly to userIDs. \n",
    "user_itemTrain = train_data.pivot_table(index=\"UserID\", columns=\"MovieID\", values=\"Rating\")\n",
    "\n",
    "#make matrix for userIDs and their respective Vi mean\n",
    "train_means = user_itemTrain.mean(axis=1)\n",
    "\n",
    "#calculating vij - mean matrix\n",
    "vijmeans = user_itemTrain.sub(train_means, axis = 0)"
   ]
  },
  {
   "cell_type": "code",
   "execution_count": null,
   "metadata": {},
   "outputs": [],
   "source": [
    "#perform the Pearson correlation function using numpy rather than pandas because its like 10000% faster for some reason??? Computers are magic!\n",
    "trainT = user_itemTrain.T\n",
    "trainT = trainT.fillna(0)\n",
    "weights = pd.DataFrame(np.corrcoef(trainT.values, rowvar=False), index = trainT.columns, columns = trainT.columns)"
   ]
  },
  {
   "cell_type": "code",
   "execution_count": null,
   "metadata": {},
   "outputs": [],
   "source": [
    "#making predictions based on test data\n",
    "\n",
    "predicted_vote = []\n",
    "\n",
    "for index, row in test_data.iterrows():\n",
    "    #get movie and user\n",
    "    j = row[0]\n",
    "    a = row[1]\n",
    "    #check if user is actually in training data\n",
    "    if a in train_means.index:\n",
    "        va = train_means.loc[a]\n",
    "    #if not, then set it to 3 (presumably the average of a 1-5 star scale)\n",
    "    else:\n",
    "        va = 3\n",
    "    vijmeansforj = vijmeans.loc[:,j]\n",
    "    wai = weights.loc[a,:].copy()\n",
    "    sumwai = wai.abs().sum()\n",
    "\n",
    "    if sumwai != 0:\n",
    "        rightside = (wai *vijmeansforj).sum()/sumwai\n",
    "    else:\n",
    "        rightside = 0\n",
    "\n",
    "    prediction = va + rightside\n",
    "    predicted_vote.append(round(prediction))"
   ]
  },
  {
   "cell_type": "code",
   "execution_count": null,
   "metadata": {},
   "outputs": [],
   "source": [
    "#calculating RMSE and MAE\n",
    "RMSE = (((test_data['Rating'] - predicted_vote)**2).mean())**0.5\n",
    "MAE = (abs(test_data['Rating'] - predicted_vote)).mean()\n",
    "print(\"RMSE: \" + str(round(RMSE, 6)))\n",
    "print(\"MAE:  \" + str(round(MAE, 6)))"
   ]
  }
 ],
 "metadata": {
  "kernelspec": {
   "display_name": "Python 3",
   "language": "python",
   "name": "python3"
  },
  "language_info": {
   "codemirror_mode": {
    "name": "ipython",
    "version": 3
   },
   "file_extension": ".py",
   "mimetype": "text/x-python",
   "name": "python",
   "nbconvert_exporter": "python",
   "pygments_lexer": "ipython3",
   "version": "3.9.13"
  },
  "orig_nbformat": 4
 },
 "nbformat": 4,
 "nbformat_minor": 2
}
